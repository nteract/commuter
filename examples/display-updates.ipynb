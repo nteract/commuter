{
 "cells": [
  {
   "metadata": {
    "collapsed": false
   },
   "cell_type": "markdown",
   "source": [
    "# Outputs you can update by name\n",
    "\n",
    "This notebook demonstrates the new name-based display functionality in the notebook. Previously, notebooks could only attach output to the cell that was currently being executed:\n",
    "\n"
   ]
  },
  {
   "execution_count": 1,
   "metadata": {
    "collapsed": false
   },
   "outputs": [],
   "cell_type": "code",
   "source": [
    "print(\"typical output\")"
   ]
  },
  {
   "metadata": {
    "collapsed": false
   },
   "cell_type": "markdown",
   "source": [
    "There was no simple way to make code in one cell to write output to another cell. Now there is!\n",
    "\n\n",
    "This feature is so new that we need to patch `display` until nteract depends on an IPython release which includes [ipython/ipykernel#204](https://github.com/ipython/ipykernel/pull/204) and [ipython/ipython#10048](https://github.com/ipython/ipython/pull/10048). So as a temporary workaround, we will define `display_with_id` and its signature and behavior will be provided with `display` in future versions of IPython.\n",
    "\n\n",
    "**You do not need to understand any of the code in the next cell**, just execute it so you can get to the fun stuff.\n"
   ]
  },
  {
   "execution_count": 2,
   "metadata": {
    "collapsed": false
   },
   "outputs": [],
   "cell_type": "code",
   "source": [
    "# a temporary patch of display for demonstration purposes\n",
    "ip = get_ipython()\n",
    "\n",
    "def display_with_id(obj, display_id=None, update=False):\n",
    "    iopub = ip.kernel.iopub_socket\n",
    "    session = ip.kernel.session\n",
    "    data, md = ip.display_formatter.format(obj)\n",
    "    transient = {'display_id': display_id}\n",
    "    content = {'data': data, 'metadata': md, 'transient': transient}\n",
    "    if display_id is None: content.pop('transient')  # make display_id option\n",
    "    msg_type = 'update_display_data' if update else 'display_data'\n",
    "    session.send(iopub, msg_type, content, parent=ip.parent_header)\n",
    "\ndisplay = display_with_id"
   ]
  },
  {
   "metadata": {},
   "cell_type": "markdown",
   "source": [
    "## The fun stuff\n",
    "\nYou made it! Pat yourself on the back and take a deep breath, the scariest part is over. The `display` function now has an optional `display_id` parameter. Let's give our next display the boring name and call it *some_destination*."
   ]
  },
  {
   "execution_count": 3,
   "metadata": {
    "collapsed": false
   },
   "outputs": [],
   "cell_type": "code",
   "source": [
    "display('initial display', 'some_destination')"
   ]
  },
  {
   "metadata": {},
   "cell_type": "markdown",
   "source": [
    "Ok, so far, nothing earth shattering. But what happens if you call display with the same `display_id` again?\n",
    "\n\n\n"
   ]
  },
  {
   "execution_count": 4,
   "metadata": {
    "collapsed": false
   },
   "outputs": [],
   "cell_type": "code",
   "source": [
    "display('spoiler alert: output updated in both', 'some_destination')\t\t\t"
   ]
  },
  {
   "metadata": {},
   "cell_type": "markdown",
   "source": [
    "Fantastic! We have a way of mirroring output in multiple places. But what if you only want update the previously named displays, without creating a new one? Just call `display` with `update=True`, like this:"
   ]
  },
  {
   "execution_count": 5,
   "metadata": {
    "collapsed": false
   },
   "outputs": [],
   "cell_type": "code",
   "source": [
    "display('no output here, update above', 'some_destination', update=True)\t\t\t"
   ]
  },
  {
   "metadata": {},
   "cell_type": "markdown",
   "source": [
    "Though we have been working with text so far, this also works for the all other output types. Let's make an HTML-based progress bar!"
   ]
  },
  {
   "execution_count": 6,
   "metadata": {
    "collapsed": false
   },
   "outputs": [],
   "cell_type": "code",
   "source": [
    "import os\n",
    "from binascii import hexlify\n",
    "\n",
    "class ProgressBar(object):\n",
    "    def __init__(self, capacity):\n",
    "        self._display_id = hexlify(os.urandom(8)).decode('ascii')\n",
    "        self.capacity = capacity\n",
    "        self.progress = 0\n",
    "        \n",
    "        \n",
    "    def _repr_html_(self):\n",
    "        return \"<progress style='width:100%' max='{}' value='{}'></progress>\".format(self.capacity, self.progress)\n",
    "    \n",
    "    def display(self):\n",
    "        display_with_id(self, display_id=self._display_id)\n",
    "    \n",
    "    def update(self):\n",
    "        display_with_id(self, display_id=self._display_id, update=True)\n",
    "\n",
    "bar = ProgressBar(100)\n",
    "bar.display()"
   ]
  },
  {
   "metadata": {},
   "cell_type": "markdown",
   "source": [
    "The progress bar is drawn and it starts off at `0`. Fill it up half way and call its `update` method to get a redraw. "
   ]
  },
  {
   "execution_count": 7,
   "metadata": {
    "collapsed": false
   },
   "outputs": [],
   "cell_type": "code",
   "source": [
    "bar.progress = 50\n",
    "bar.update()"
   ]
  },
  {
   "metadata": {},
   "cell_type": "markdown",
   "source": [
    "Now go half-way again"
   ]
  },
  {
   "execution_count": 8,
   "metadata": {
    "collapsed": false
   },
   "outputs": [],
   "cell_type": "code",
   "source": [
    "bar.progress = 75\n",
    "bar.update()"
   ]
  },
  {
   "metadata": {},
   "cell_type": "markdown",
   "source": [
    "Our original bar is kind of far away now, let's get another view of it below."
   ]
  },
  {
   "execution_count": 9,
   "metadata": {
    "collapsed": false
   },
   "outputs": [],
   "cell_type": "code",
   "source": [
    "bar.display()"
   ]
  },
  {
   "cell_type": "markdown",
   "metadata": {},
   "source": [
    "This is good, but it would be awesome to have a progress bar that would automatically update whenever its progress was modified - that would be truly *progress*ive. We subclass `ProgressBar` and now we make `progress` into a [Python property](https://docs.python.org/3/library/functions.html#property), which will allow us to set it and get it like an attribute, but do that using methods. In particular, whenever we assign a new value to `progress`, we also call `update`."
   ]
  },
  {
   "cell_type": "code",
   "execution_count": 10,
   "metadata": {
    "collapsed": false
   },
   "source": [
    "class AutoupdatingProgressBar(ProgressBar):\n",
    "    @property\n",
    "    def progress(self):\n",
    "        return self._progress\n",
    "    \n",
    "    @progress.setter\n",
    "    def progress(self, value):\n",
    "        self._progress = value\n",
    "        self.update()"
   ],
   "outputs": []
  },
  {
   "cell_type": "code",
   "execution_count": 11,
   "metadata": {
    "collapsed": false
   },
   "source": [
    "better_bar = AutoupdatingProgressBar(100)\n",
    "better_bar.display()"
   ],
   "outputs": []
  },
  {
   "cell_type": "code",
   "execution_count": 12,
   "metadata": {
    "collapsed": false
   },
   "source": [
    "better_bar.progress = 40"
   ],
   "outputs": []
  },
  {
   "metadata": {},
   "cell_type": "markdown",
   "source": [
    "Much better. No more pesky `update` calls. Let's make a little animation that [Zeno](https://en.wikipedia.org/wiki/Zeno%27s_paradoxes#Dichotomy_paradox) would be proud of:"
   ]
  },
  {
   "execution_count": 13,
   "metadata": {
    "collapsed": false
   },
   "outputs": [],
   "cell_type": "code",
   "source": [
    "import time\n",
    "better_bar.progress = 0\n",
    "for _ in range(10):\n",
    "    time.sleep(.5)\n",
    "    better_bar.progress += (better_bar.capacity - better_bar.progress) / 2"
   ]
  },
  {
   "metadata": {},
   "cell_type": "markdown",
   "source": [
    "You might have noticed that each `ProgressBar` autogenerates a random `display_id` which is handy if you want to have several of them.\n",
    "\n"
   ]
  },
  {
   "execution_count": 14,
   "metadata": {
    "collapsed": false
   },
   "outputs": [],
   "cell_type": "code",
   "source": [
    "num_bars = 5\n",
    "bars = [AutoupdatingProgressBar(100) for _ in range(num_bars)]\n",
    "for b in bars:\n",
    "    b.display()"
   ]
  },
  {
   "execution_count": 15,
   "metadata": {
    "collapsed": false
   },
   "outputs": [],
   "cell_type": "code",
   "source": [
    "import random \n",
    "for x in range(40):\n",
    "    time.sleep(.1)\n",
    "    idx = random.randrange(num_bars)\n",
    "    bars[idx].progress +=  random.randint(-2, 10)"
   ]
  },
  {
   "execution_count": 16,
   "metadata": {
    "collapsed": false
   },
   "outputs": [],
   "cell_type": "code",
   "source": [
    "for b in bars:\n",
    "    b.display()"
   ]
  }
 ],
 "nbformat": 4,
 "nbformat_minor": 0,
 "metadata": {
  "kernelspec": {
   "name": "python3",
   "language": "python",
   "display_name": "Python 3"
  },
  "kernel_info": {
   "name": "python3"
  },
  "language_info": {
   "codemirror_mode": {
    "name": "ipython",
    "version": 3
   },
   "nbconvert_exporter": "python",
   "mimetype": "text/x-python",
   "version": "3.5.2",
   "file_extension": ".py",
   "name": "python",
   "pygments_lexer": "ipython3"
  }
 }
}
