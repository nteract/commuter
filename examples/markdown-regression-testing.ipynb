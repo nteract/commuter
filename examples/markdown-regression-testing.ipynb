{
  "cells": [
    {
      "cell_type": "markdown",
      "source": [
        "# Watching Paint Dry\n",
        "\n",
        "The composited _color_ of the **paint** must not change during drying. The\n",
        "optical blending function is used with this constraint to compensate for the new\n",
        "dry layer $C_{d}^{\\prime}$, when some volume $\\delta_{\\alpha}$ is removed from\n",
        "the wet layer.\n",
        "\n",
        "$$\n",
        "C_{d}^{\\prime} = \\frac{\\alpha \\times C_{w} + (1 - \\delta) \\times C_d - a^{\\prime}C_w}{1 - \\alpha^\\prime}, \\alpha^\\prime = \\alpha - \\delta_\\alpha\n",
        "$$\n",
        "\n",
        "The dry layer of the canvas uses a relative height field to allow for unlimited\n",
        "volume of paint to be added, with a constraint only on the relative change in\n",
        "height between texels."
      ],
      "metadata": {}
    },
    {
      "cell_type": "code",
      "source": [
        "from IPython.display import Markdown\n",
        "Markdown(r\"\"\"# Non-Homogeneous Poisson Process Likelihood Function\n",
        "$$\n",
        "\\frac{\\left(Λ_{0,T}\\left(t\\right)\\right)^k e^{\\left(Λ_{0,T}\\left(t\\right)\\right)}}{k!}\n",
        "$$\"\"\")"
      ],
      "outputs": [
        {
          "output_type": "execute_result",
          "execution_count": 1,
          "data": {
            "text/plain": [
              "<IPython.core.display.Markdown object>"
            ],
            "text/markdown": [
              "# Non-Homogeneous Poisson Process Likelihood Function\n",
              "$$\n",
              "\\frac{\\left(Λ_{0,T}\\left(t\\right)\\right)^k e^{\\left(Λ_{0,T}\\left(t\\right)\\right)}}{k!}\n",
              "$$"
            ]
          },
          "metadata": {}
        }
      ],
      "execution_count": 1,
      "metadata": {
        "collapsed": false,
        "outputHidden": false,
        "inputHidden": false
      }
    },
    {
      "cell_type": "code",
      "source": [
        "from IPython.display import Latex\n",
        "display(Latex(r\"\\LaTeX\"))"
      ],
      "outputs": [
        {
          "output_type": "display_data",
          "data": {
            "text/plain": [
              "<IPython.core.display.Latex object>"
            ],
            "text/latex": [
              "\\LaTeX"
            ]
          },
          "metadata": {}
        }
      ],
      "execution_count": 1,
      "metadata": {
        "collapsed": false,
        "outputHidden": false,
        "inputHidden": false
      }
    },
    {
      "cell_type": "code",
      "source": [
        "from IPython.display import Latex\n",
        "Latex(r\"\"\"\\begin{eqnarray}\n",
        "\\nabla \\times \\vec{\\mathbf{B}} -\\, \\frac1c\\, \\frac{\\partial\\vec{\\mathbf{E}}}{\\partial t} & = & \\frac{4\\pi}{c}\\vec{\\mathbf{j}} \\\\\n",
        "\\nabla \\cdot \\vec{\\mathbf{E}} & = & 4 \\pi \\rho \\\\\n",
        "\\nabla \\times \\vec{\\mathbf{E}}\\, +\\, \\frac1c\\, \\frac{\\partial\\vec{\\mathbf{B}}}{\\partial t} & = & \\vec{\\mathbf{0}} \\\\\n",
        "\\nabla \\cdot \\vec{\\mathbf{B}} & = & 0 \n",
        "\\end{eqnarray}\"\"\")"
      ],
      "outputs": [
        {
          "output_type": "execute_result",
          "execution_count": 3,
          "data": {
            "text/plain": [
              "<IPython.core.display.Latex object>"
            ],
            "text/latex": [
              "\\begin{eqnarray}\n",
              "\\nabla \\times \\vec{\\mathbf{B}} -\\, \\frac1c\\, \\frac{\\partial\\vec{\\mathbf{E}}}{\\partial t} & = & \\frac{4\\pi}{c}\\vec{\\mathbf{j}} \\\\\n",
              "\\nabla \\cdot \\vec{\\mathbf{E}} & = & 4 \\pi \\rho \\\\\n",
              "\\nabla \\times \\vec{\\mathbf{E}}\\, +\\, \\frac1c\\, \\frac{\\partial\\vec{\\mathbf{B}}}{\\partial t} & = & \\vec{\\mathbf{0}} \\\\\n",
              "\\nabla \\cdot \\vec{\\mathbf{B}} & = & 0 \n",
              "\\end{eqnarray}"
            ]
          },
          "metadata": {}
        }
      ],
      "execution_count": 3,
      "metadata": {
        "collapsed": false,
        "outputHidden": false,
        "inputHidden": false
      }
    },
    {
      "cell_type": "markdown",
      "source": [
        "https://github.com/nteract/nteract/issues/2434\n",
        "\n",
        "$\\hat{y}_{i}=\\hat\\beta_{0}+\\hat\\beta_{1}x_{i}$\n",
        "\n",
        "$\\sum\\limits_{i=1}^nx_i$\n",
        "\n"
      ],
      "metadata": {}
    },
    {
      "cell_type": "markdown",
      "source": [
        "https://github.com/nteract/nteract/issues/2012\n",
        "\n",
        "$$\n",
        "\\begin{align}\n",
        "a &= 1 \\\\\n",
        "b &= 2\n",
        "\\end{align}\n",
        "$$"
      ],
      "metadata": {}
    },
    {
      "cell_type": "markdown",
      "source": [
        "https://github.com/nteract/nteract/issues/1557\n",
        "\n\n",
        "| Age | Number of Cars owned | Owns House | Number of Children| Marital status (s/m/d/w) | Owns a dog | Bought a Boat|\n",
        "|-|-|-|-|-|-|-|\n",
        "|66|1|y|2|w|n|y|\n",
        "|52|2|y|3|m|n|y|\n",
        "|22|0|n|0|m|y|n|\n",
        "|25|1|n|1|s|n|n|\n",
        "|44|0|n|2|d|y|n|\n",
        "|39|1|y|2|m|y|n|\n",
        "|26|1|n|2|s|n|n|\n",
        "|40|3|y|1|m|y|n|\n",
        "|53|2|y|2|d|n|y|\n",
        "|64|2|y|3|d|n|n|\n",
        "|58|2|y|2|m|y|y|\n",
        "|33|1|n|1|s|n|n|\n"
      ],
      "metadata": {}
    },
    {
      "cell_type": "markdown",
      "source": [
        "\n",
        "~~hey~~\n",
        "\n",
        "```python\n",
        "import this\n",
        "\n",
        "print('hey')\n",
        "```\n",
        "\n"
      ],
      "metadata": {}
    },
    {
      "cell_type": "markdown",
      "source": [
        "1. Thing"
      ],
      "metadata": {}
    },
    {
      "cell_type": "markdown",
      "source": [
        "1. This is a numbered list\n",
        "2. And within it\n",
        "  * There's a bulleted list which should be indented\n",
        "3. It's not, and totally should\n",
        "4. Hopefully this gets fixed"
      ],
      "metadata": {
        "collapsed": false,
        "outputHidden": false,
        "inputHidden": false
      }
    },
    {
      "cell_type": "markdown",
      "source": [],
      "metadata": {}
    }
  ],
  "metadata": {
    "kernelspec": {
      "name": "python3",
      "language": "python",
      "display_name": "Python 3"
    },
    "kernel_info": {
      "name": "python3"
    },
    "language_info": {
      "name": "python",
      "version": "3.6.4",
      "mimetype": "text/x-python",
      "codemirror_mode": {
        "name": "ipython",
        "version": 3
      },
      "pygments_lexer": "ipython3",
      "nbconvert_exporter": "python",
      "file_extension": ".py"
    },
    "nteract": {
      "version": "0.6.2"
    }
  },
  "nbformat": 4,
  "nbformat_minor": 4
}