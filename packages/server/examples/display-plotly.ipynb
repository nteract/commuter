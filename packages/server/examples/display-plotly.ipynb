{
    "cells": [
        {
            "cell_type": "code",
            "execution_count": 1,
            "metadata": {
                "collapsed": true
            },
            "outputs": [],
            "source": [
                "# Import the plotting function from Plotly's offline library.\n",
                "from plotly.offline import iplot\n",
                "from plotly.offline import init_notebook_mode"
            ]
        },
        {
            "cell_type": "code",
            "execution_count": 2,
            "metadata": {},
            "outputs": [
                {
                    "data": {
                        "text/html": [
                            "<script>requirejs.config({paths: { 'plotly': ['https://cdn.plot.ly/plotly-latest.min']},});if(!window.Plotly) {{require(['plotly'],function(plotly) {window.Plotly=plotly;});}}</script>"
                        ],
                        "text/vnd.plotly.v1+html": [
                            "<script>requirejs.config({paths: { 'plotly': ['https://cdn.plot.ly/plotly-latest.min']},});if(!window.Plotly) {{require(['plotly'],function(plotly) {window.Plotly=plotly;});}}</script>"
                        ]
                    },
                    "metadata": {},
                    "output_type": "display_data"
                }
            ],
            "source": [
                "# Confirm that we're trying to work in offline mode only.\n",
                "# Connected means that we're online, just not attempting to communicate with Plotly servers.\n",
                "init_notebook_mode(connected=True)"
            ]
        },
        {
            "cell_type": "code",
            "execution_count": 3,
            "metadata": {},
            "outputs": [],
            "source": [
                "# Create our figure.\n",
                "figure = {\n",
                "    \"data\": [{\"y\": [2, 1, 2]}],\n",
                "    \"layout\": {}\n",
                "}"
            ]
        },
        {
            "cell_type": "code",
            "execution_count": 4,
            "metadata": {
                "scrolled": false
            },
            "outputs": [
                {
                    "data": {
                        "application/vnd.plotly.v1+json": {
                            "data": [
                                {
                                    "y": [
                                        2,
                                        1,
                                        2
                                    ]
                                }
                            ],
                            "layout": {}
                        },
                        "text/html": [
                            "<div id=\"854655c4-c724-4951-af43-da99751de695\" style=\"height: 525px; width: 100%;\" class=\"plotly-graph-div\"></div><script type=\"text/javascript\">require([\"plotly\"], function(Plotly) { window.PLOTLYENV=window.PLOTLYENV || {};window.PLOTLYENV.BASE_URL=\"https://plot.ly\";Plotly.newPlot(\"854655c4-c724-4951-af43-da99751de695\", [{\"y\": [2, 1, 2]}], {}, {\"linkText\": \"Export to plot.ly\", \"showLink\": true})});</script>"
                        ],
                        "text/vnd.plotly.v1+html": [
                            "<div id=\"854655c4-c724-4951-af43-da99751de695\" style=\"height: 525px; width: 100%;\" class=\"plotly-graph-div\"></div><script type=\"text/javascript\">require([\"plotly\"], function(Plotly) { window.PLOTLYENV=window.PLOTLYENV || {};window.PLOTLYENV.BASE_URL=\"https://plot.ly\";Plotly.newPlot(\"854655c4-c724-4951-af43-da99751de695\", [{\"y\": [2, 1, 2]}], {}, {\"linkText\": \"Export to plot.ly\", \"showLink\": true})});</script>"
                        ]
                    },
                    "metadata": {},
                    "output_type": "display_data"
                }
            ],
            "source": [
                "# Dump the figure into our output.\n",
                "iplot(figure)"
            ]
        }
    ],
    "metadata": {
        "hide_input": false,
        "kernelspec": {
            "display_name": "Python 2",
            "language": "python",
            "name": "python2"
        },
        "language_info": {
            "codemirror_mode": {
                "name": "ipython",
                "version": 2
            },
            "file_extension": ".py",
            "mimetype": "text/x-python",
            "name": "python",
            "nbconvert_exporter": "python",
            "pygments_lexer": "ipython2",
            "version": "2.7.12"
        }
    },
    "nbformat": 4,
    "nbformat_minor": 2
}
